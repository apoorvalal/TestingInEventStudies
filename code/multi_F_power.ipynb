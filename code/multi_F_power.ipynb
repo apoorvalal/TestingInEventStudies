{
 "cells": [
  {
   "cell_type": "code",
   "execution_count": 1,
   "metadata": {},
   "outputs": [
    {
     "data": {
      "text/html": [
       "\n",
       "            <div id=\"TmqPlt\"></div>\n",
       "            <script type=\"text/javascript\" data-lets-plot-script=\"library\">\n",
       "                if(!window.letsPlotCallQueue) {\n",
       "                    window.letsPlotCallQueue = [];\n",
       "                }; \n",
       "                window.letsPlotCall = function(f) {\n",
       "                    window.letsPlotCallQueue.push(f);\n",
       "                };\n",
       "                (function() {\n",
       "                    var script = document.createElement(\"script\");\n",
       "                    script.type = \"text/javascript\";\n",
       "                    script.src = \"https://cdn.jsdelivr.net/gh/JetBrains/lets-plot@v4.2.0/js-package/distr/lets-plot.min.js\";\n",
       "                    script.onload = function() {\n",
       "                        window.letsPlotCall = function(f) {f();};\n",
       "                        window.letsPlotCallQueue.forEach(function(f) {f();});\n",
       "                        window.letsPlotCallQueue = [];\n",
       "                        \n",
       "                    };\n",
       "                    script.onerror = function(event) {\n",
       "                        window.letsPlotCall = function(f) {};    // noop\n",
       "                        window.letsPlotCallQueue = [];\n",
       "                        var div = document.createElement(\"div\");\n",
       "                        div.style.color = 'darkred';\n",
       "                        div.textContent = 'Error loading Lets-Plot JS';\n",
       "                        document.getElementById(\"TmqPlt\").appendChild(div);\n",
       "                    };\n",
       "                    var e = document.getElementById(\"TmqPlt\");\n",
       "                    e.appendChild(script);\n",
       "                })()\n",
       "            </script>\n",
       "            "
      ]
     },
     "metadata": {},
     "output_type": "display_data"
    },
    {
     "data": {
      "text/html": [
       "\n",
       "            <div id=\"HaD0SU\"></div>\n",
       "            <script type=\"text/javascript\" data-lets-plot-script=\"library\">\n",
       "                if(!window.letsPlotCallQueue) {\n",
       "                    window.letsPlotCallQueue = [];\n",
       "                }; \n",
       "                window.letsPlotCall = function(f) {\n",
       "                    window.letsPlotCallQueue.push(f);\n",
       "                };\n",
       "                (function() {\n",
       "                    var script = document.createElement(\"script\");\n",
       "                    script.type = \"text/javascript\";\n",
       "                    script.src = \"https://cdn.jsdelivr.net/gh/JetBrains/lets-plot@v4.2.0/js-package/distr/lets-plot.min.js\";\n",
       "                    script.onload = function() {\n",
       "                        window.letsPlotCall = function(f) {f();};\n",
       "                        window.letsPlotCallQueue.forEach(function(f) {f();});\n",
       "                        window.letsPlotCallQueue = [];\n",
       "                        \n",
       "                    };\n",
       "                    script.onerror = function(event) {\n",
       "                        window.letsPlotCall = function(f) {};    // noop\n",
       "                        window.letsPlotCallQueue = [];\n",
       "                        var div = document.createElement(\"div\");\n",
       "                        div.style.color = 'darkred';\n",
       "                        div.textContent = 'Error loading Lets-Plot JS';\n",
       "                        document.getElementById(\"HaD0SU\").appendChild(div);\n",
       "                    };\n",
       "                    var e = document.getElementById(\"HaD0SU\");\n",
       "                    e.appendChild(script);\n",
       "                })()\n",
       "            </script>\n",
       "            "
      ]
     },
     "metadata": {},
     "output_type": "display_data"
    }
   ],
   "source": [
    "import numpy as np\n",
    "import matplotlib.pyplot as plt\n",
    "import pandas as pd\n",
    "import pyfixest as pf"
   ]
  },
  {
   "cell_type": "code",
   "execution_count": 2,
   "metadata": {},
   "outputs": [],
   "source": [
    "from saturated import test_treatment_heterogeneity\n",
    "from dgp import panel_dgp_stagg, generate_treatment_effect\n",
    "from plotters import diag_plot"
   ]
  },
  {
   "cell_type": "code",
   "execution_count": 3,
   "metadata": {},
   "outputs": [],
   "source": [
    "def generate_dgp(\n",
    "    num_periods=30,\n",
    "    cohort_specs=None,  # dict with keys for each cohort\n",
    "    sigma_i=2,\n",
    "    sigma_t=1,\n",
    "    sigma_epsilon=1,\n",
    "    num_units=20_000,\n",
    "):\n",
    "    # Default cohort specs if none provided\n",
    "    if cohort_specs is None:\n",
    "        cohort_specs = {\n",
    "            \"cohort1\": {\n",
    "                \"effect_type\": \"concave\",\n",
    "                \"start_time\": 10,\n",
    "                \"max_effect\": 1,\n",
    "                \"size\": num_units // 3,\n",
    "            },\n",
    "            \"cohort2\": {\n",
    "                \"effect_type\": \"concave\",\n",
    "                \"start_time\": 15,\n",
    "                \"max_effect\": 1,\n",
    "                \"size\": num_units // 3,\n",
    "            },\n",
    "            \"cohort3\": {\n",
    "                \"effect_type\": \"concave\",\n",
    "                \"start_time\": 20,\n",
    "                \"max_effect\": 1,\n",
    "                \"size\": num_units // 3,\n",
    "            },\n",
    "        }\n",
    "\n",
    "    # Extract lists for panel_dgp_stagg\n",
    "    treatment_starts = [spec[\"start_time\"] for spec in cohort_specs.values()]\n",
    "    cohort_sizes = [spec[\"size\"] for spec in cohort_specs.values()]\n",
    "\n",
    "    # Generate treatment effects\n",
    "    base_treatment_effects = [\n",
    "        generate_treatment_effect(\n",
    "            effect_type=spec[\"effect_type\"],\n",
    "            T=num_periods,\n",
    "            T0=spec[\"start_time\"],\n",
    "            max_effect=spec[\"max_effect\"],\n",
    "        )\n",
    "        for spec in cohort_specs.values()\n",
    "    ]\n",
    "    return base_treatment_effects\n",
    "\n",
    "    # Run DGP\n",
    "    dgp = panel_dgp_stagg(\n",
    "        num_units=num_units,\n",
    "        num_treated=cohort_sizes,\n",
    "        num_periods=num_periods,\n",
    "        treatment_start_cohorts=treatment_starts,\n",
    "        base_treatment_effects=base_treatment_effects,\n",
    "        sigma_unit=sigma_i,\n",
    "        sigma_time=sigma_t,\n",
    "        sigma_epsilon=sigma_epsilon,\n",
    "    )\n",
    "\n",
    "    return dgp"
   ]
  },
  {
   "cell_type": "code",
   "execution_count": 4,
   "metadata": {},
   "outputs": [],
   "source": [
    "homog_specs = {\n",
    "    f\"cohort{i}\": {\n",
    "        \"effect_type\": \"concave\",\n",
    "        \"start_time\": start,\n",
    "        \"max_effect\": 1,\n",
    "        \"size\": size,\n",
    "    }\n",
    "    for i, (start, size) in enumerate(zip([10, 15, 20], [2500, 5000, 2500]))\n",
    "}\n",
    "\n",
    "df_homog = generate_dgp(cohort_specs=homog_specs)\n"
   ]
  },
  {
   "cell_type": "code",
   "execution_count": 5,
   "metadata": {},
   "outputs": [
    {
     "data": {
      "text/plain": [
       "[array([0.09531018, 0.18232156, 0.26236426, 0.33647224, 0.40546511,\n",
       "        0.47000363, 0.53062825, 0.58778666, 0.64185389, 0.69314718,\n",
       "        0.74193734, 0.78845736, 0.83290912, 0.87546874, 0.91629073,\n",
       "        0.95551145, 0.99325177, 1.02961942, 1.06471074, 1.09861229]),\n",
       " array([0.12516314, 0.23638878, 0.33647224, 0.42744401, 0.51082562,\n",
       "        0.58778666, 0.65924563, 0.725937  , 0.78845736, 0.84729786,\n",
       "        0.90286771, 0.95551145, 1.00552187, 1.05314991, 1.09861229]),\n",
       " array([0.18232156, 0.33647224, 0.47000363, 0.58778666, 0.69314718,\n",
       "        0.78845736, 0.87546874, 0.95551145, 1.02961942, 1.09861229])]"
      ]
     },
     "execution_count": 5,
     "metadata": {},
     "output_type": "execute_result"
    }
   ],
   "source": [
    "df_homog"
   ]
  },
  {
   "cell_type": "code",
   "execution_count": null,
   "metadata": {},
   "outputs": [],
   "source": [
    "\n",
    "# Extract parameters needed for diagnostic plot\n",
    "treatment_starts = [spec[\"start_time\"] for spec in homog_specs.values()]\n",
    "base_effects = [\n",
    "    generate_treatment_effect(\n",
    "        effect_type=spec[\"effect_type\"],\n",
    "        T=30,\n",
    "        T0=spec[\"start_time\"],\n",
    "        max_effect=spec[\"max_effect\"],\n",
    "    )\n",
    "    for spec in homog_specs.values()\n",
    "]\n",
    "\n",
    "# Run diagnostic plot\n",
    "diag_plot(df_homog, treatment_starts, base_effects)"
   ]
  },
  {
   "cell_type": "code",
   "execution_count": 6,
   "metadata": {},
   "outputs": [
    {
     "name": "stderr",
     "output_type": "stream",
     "text": [
      "/home/alal/Desktop/forks/pyfixest/pyfixest/estimation/feols_.py:2540: UserWarning: \n",
      "            The following variables are collinear: ['C(rel_time, contr.treatment(base=-1.0))[T.inf]', 'C(rel_time, contr.treatment(base=-1.0))[T.-20.0]:cohort_dummy_15', 'C(rel_time, contr.treatment(base=-1.0))[T.-19.0]:cohort_dummy_15', 'C(rel_time, contr.treatment(base=-1.0))[T.-18.0]:cohort_dummy_15', 'C(rel_time, contr.treatment(base=-1.0))[T.-17.0]:cohort_dummy_15', 'C(rel_time, contr.treatment(base=-1.0))[T.-16.0]:cohort_dummy_15', 'C(rel_time, contr.treatment(base=-1.0))[T.15.0]:cohort_dummy_15', 'C(rel_time, contr.treatment(base=-1.0))[T.16.0]:cohort_dummy_15', 'C(rel_time, contr.treatment(base=-1.0))[T.17.0]:cohort_dummy_15', 'C(rel_time, contr.treatment(base=-1.0))[T.18.0]:cohort_dummy_15', 'C(rel_time, contr.treatment(base=-1.0))[T.19.0]:cohort_dummy_15', 'C(rel_time, contr.treatment(base=-1.0))[T.inf]:cohort_dummy_15', 'C(rel_time, contr.treatment(base=-1.0))[T.-20.0]:cohort_dummy_20', 'C(rel_time, contr.treatment(base=-1.0))[T.-19.0]:cohort_dummy_20', 'C(rel_time, contr.treatment(base=-1.0))[T.-18.0]:cohort_dummy_20', 'C(rel_time, contr.treatment(base=-1.0))[T.-17.0]:cohort_dummy_20', 'C(rel_time, contr.treatment(base=-1.0))[T.-16.0]:cohort_dummy_20', 'C(rel_time, contr.treatment(base=-1.0))[T.-15.0]:cohort_dummy_20', 'C(rel_time, contr.treatment(base=-1.0))[T.-14.0]:cohort_dummy_20', 'C(rel_time, contr.treatment(base=-1.0))[T.-13.0]:cohort_dummy_20', 'C(rel_time, contr.treatment(base=-1.0))[T.-12.0]:cohort_dummy_20', 'C(rel_time, contr.treatment(base=-1.0))[T.-11.0]:cohort_dummy_20', 'C(rel_time, contr.treatment(base=-1.0))[T.10.0]:cohort_dummy_20', 'C(rel_time, contr.treatment(base=-1.0))[T.11.0]:cohort_dummy_20', 'C(rel_time, contr.treatment(base=-1.0))[T.12.0]:cohort_dummy_20', 'C(rel_time, contr.treatment(base=-1.0))[T.13.0]:cohort_dummy_20', 'C(rel_time, contr.treatment(base=-1.0))[T.14.0]:cohort_dummy_20', 'C(rel_time, contr.treatment(base=-1.0))[T.15.0]:cohort_dummy_20', 'C(rel_time, contr.treatment(base=-1.0))[T.16.0]:cohort_dummy_20', 'C(rel_time, contr.treatment(base=-1.0))[T.17.0]:cohort_dummy_20', 'C(rel_time, contr.treatment(base=-1.0))[T.18.0]:cohort_dummy_20', 'C(rel_time, contr.treatment(base=-1.0))[T.19.0]:cohort_dummy_20', 'C(rel_time, contr.treatment(base=-1.0))[T.inf]:cohort_dummy_20'].\n",
      "            The variables are dropped from the model.\n",
      "            \n",
      "  warnings.warn(\n"
     ]
    },
    {
     "data": {
      "text/plain": [
       "8.319654181015903e-05"
      ]
     },
     "execution_count": 6,
     "metadata": {},
     "output_type": "execute_result"
    }
   ],
   "source": [
    "test_treatment_heterogeneity(df_homog)"
   ]
  }
 ],
 "metadata": {
  "kernelspec": {
   "display_name": "py311",
   "language": "python",
   "name": "python3"
  },
  "language_info": {
   "codemirror_mode": {
    "name": "ipython",
    "version": 3
   },
   "file_extension": ".py",
   "mimetype": "text/x-python",
   "name": "python",
   "nbconvert_exporter": "python",
   "pygments_lexer": "ipython3",
   "version": "3.11.7"
  }
 },
 "nbformat": 4,
 "nbformat_minor": 2
}
